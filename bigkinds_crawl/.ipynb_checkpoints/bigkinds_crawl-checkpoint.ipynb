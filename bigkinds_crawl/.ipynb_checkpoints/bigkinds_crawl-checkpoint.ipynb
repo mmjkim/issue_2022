{
 "cells": [
  {
   "cell_type": "code",
   "execution_count": 29,
   "id": "99358612",
   "metadata": {},
   "outputs": [],
   "source": [
    "import time\n",
    "import pyautogui as pag\n",
    "import pyperclip\n",
    "import cv2\n",
    "import pandas as pd\n",
    "from PIL import ImageGrab\n",
    "from functools import partial\n",
    "\n",
    "ImageGrab.grab = partial(ImageGrab.grab, all_screens=True)"
   ]
  },
  {
   "cell_type": "code",
   "execution_count": 2,
   "id": "12341178",
   "metadata": {},
   "outputs": [],
   "source": [
    "# import webbrowser\n",
    "\n",
    "\n",
    "# url = \"https://www.bigkinds.or.kr/v2/news/index.do\"\n",
    "# webbrowser.open(url)"
   ]
  },
  {
   "cell_type": "code",
   "execution_count": 21,
   "id": "7af5d9da",
   "metadata": {},
   "outputs": [],
   "source": [
    "def imgClick(filename, t):\n",
    "    imgfile = pag.locateOnScreen(filename, confidence=0.9)\n",
    "#     print(imgfile)\n",
    "    center = pag.center(imgfile)\n",
    "    pag.moveTo(center)\n",
    "    pag.click(center)\n",
    "    time.sleep(t)"
   ]
  },
  {
   "cell_type": "code",
   "execution_count": 22,
   "id": "4b34887c",
   "metadata": {},
   "outputs": [],
   "source": [
    "def scroll(line):\n",
    "    time.sleep(0.5)\n",
    "    pag.scroll(line)\n",
    "    time.sleep(0.5)"
   ]
  },
  {
   "cell_type": "code",
   "execution_count": 23,
   "id": "41ea4805",
   "metadata": {},
   "outputs": [
    {
     "data": {
      "text/html": [
       "<div>\n",
       "<style scoped>\n",
       "    .dataframe tbody tr th:only-of-type {\n",
       "        vertical-align: middle;\n",
       "    }\n",
       "\n",
       "    .dataframe tbody tr th {\n",
       "        vertical-align: top;\n",
       "    }\n",
       "\n",
       "    .dataframe thead th {\n",
       "        text-align: right;\n",
       "    }\n",
       "</style>\n",
       "<table border=\"1\" class=\"dataframe\">\n",
       "  <thead>\n",
       "    <tr style=\"text-align: right;\">\n",
       "      <th></th>\n",
       "      <th>keyword</th>\n",
       "    </tr>\n",
       "  </thead>\n",
       "  <tbody>\n",
       "    <tr>\n",
       "      <th>0</th>\n",
       "      <td>(택시대란 OR 우버 OR 타다)</td>\n",
       "    </tr>\n",
       "    <tr>\n",
       "      <th>1</th>\n",
       "      <td>(코로나 AND 마스크)</td>\n",
       "    </tr>\n",
       "    <tr>\n",
       "      <th>2</th>\n",
       "      <td>(미세먼지)</td>\n",
       "    </tr>\n",
       "  </tbody>\n",
       "</table>\n",
       "</div>"
      ],
      "text/plain": [
       "              keyword\n",
       "0  (택시대란 OR 우버 OR 타다)\n",
       "1       (코로나 AND 마스크)\n",
       "2              (미세먼지)"
      ]
     },
     "execution_count": 23,
     "metadata": {},
     "output_type": "execute_result"
    }
   ],
   "source": [
    "keywords = pd.read_csv(\"D:/issue/bigkinds_crawl/bigkinds_keyword.csv\")\n",
    "keywords\n",
    "# ['(택시 대란 OR 우버 OR 타다)', '(코로나 AND 마스크)', '(미세먼지)']"
   ]
  },
  {
   "cell_type": "code",
   "execution_count": 24,
   "id": "095fd081",
   "metadata": {},
   "outputs": [
    {
     "name": "stdout",
     "output_type": "stream",
     "text": [
      "이메일 주소를 입력하세요:20191497@daejin.ac.kr\n",
      "패스워드를 입력하세요:wqw1301wqw**\n"
     ]
    }
   ],
   "source": [
    "email = input('이메일 주소를 입력하세요:')\n",
    "pw = input('패스워드를 입력하세요:')"
   ]
  },
  {
   "cell_type": "code",
   "execution_count": 27,
   "id": "81818c69",
   "metadata": {},
   "outputs": [
    {
     "name": "stderr",
     "output_type": "stream",
     "text": [
      "C:\\Users\\hjshi\\AppData\\Local\\Temp\\ipykernel_22752\\250465401.py:4: DeprecationWarning: executable_path has been deprecated, please pass in a Service object\n",
      "  dr = webdriver.Chrome('D:/chromedriver.exe')\n"
     ]
    }
   ],
   "source": [
    "from selenium import webdriver\n",
    "\n",
    "# Webdriver 실행\n",
    "dr = webdriver.Chrome('D:/chromedriver.exe')\n",
    "\n",
    "# Webdriver에서 네이버 페이지 접속\n",
    "dr.get(\"https://www.bigkinds.or.kr/v2/news/index.do\")\n",
    "dr.maximize_window()"
   ]
  },
  {
   "cell_type": "code",
   "execution_count": 28,
   "id": "ee4f8c2d",
   "metadata": {},
   "outputs": [
    {
     "ename": "TypeError",
     "evalue": "'NoneType' object is not subscriptable",
     "output_type": "error",
     "traceback": [
      "\u001b[1;31m---------------------------------------------------------------------------\u001b[0m",
      "\u001b[1;31mTypeError\u001b[0m                                 Traceback (most recent call last)",
      "Input \u001b[1;32mIn [28]\u001b[0m, in \u001b[0;36m<cell line: 17>\u001b[1;34m()\u001b[0m\n\u001b[0;32m     66\u001b[0m imgClick(\u001b[38;5;124m\"\u001b[39m\u001b[38;5;124mD:/issue/bigkinds_crawl/img/step1.png\u001b[39m\u001b[38;5;124m\"\u001b[39m, \u001b[38;5;241m0.1\u001b[39m)\n\u001b[0;32m     69\u001b[0m \u001b[38;5;66;03m# 6. 저장한 파일명 변경\u001b[39;00m\n\u001b[1;32m---> 70\u001b[0m \u001b[43mimgClick\u001b[49m\u001b[43m(\u001b[49m\u001b[38;5;124;43m\"\u001b[39;49m\u001b[38;5;124;43mD:/issue/bigkinds_crawl/img/sort.png\u001b[39;49m\u001b[38;5;124;43m\"\u001b[39;49m\u001b[43m,\u001b[49m\u001b[43m \u001b[49m\u001b[38;5;241;43m0.2\u001b[39;49m\u001b[43m)\u001b[49m\n\u001b[0;32m     71\u001b[0m xy \u001b[38;5;241m=\u001b[39m pag\u001b[38;5;241m.\u001b[39mposition()\n\u001b[0;32m     72\u001b[0m pag\u001b[38;5;241m.\u001b[39mclick(xy)\n",
      "Input \u001b[1;32mIn [21]\u001b[0m, in \u001b[0;36mimgClick\u001b[1;34m(filename, t)\u001b[0m\n\u001b[0;32m      2\u001b[0m     imgfile \u001b[38;5;241m=\u001b[39m pag\u001b[38;5;241m.\u001b[39mlocateOnScreen(filename, confidence\u001b[38;5;241m=\u001b[39m\u001b[38;5;241m0.9\u001b[39m)\n\u001b[0;32m      3\u001b[0m \u001b[38;5;66;03m#     print(imgfile)\u001b[39;00m\n\u001b[1;32m----> 4\u001b[0m     center \u001b[38;5;241m=\u001b[39m \u001b[43mpag\u001b[49m\u001b[38;5;241;43m.\u001b[39;49m\u001b[43mcenter\u001b[49m\u001b[43m(\u001b[49m\u001b[43mimgfile\u001b[49m\u001b[43m)\u001b[49m\n\u001b[0;32m      5\u001b[0m     pag\u001b[38;5;241m.\u001b[39mmoveTo(center)\n\u001b[0;32m      6\u001b[0m     pag\u001b[38;5;241m.\u001b[39mclick(center)\n",
      "File \u001b[1;32m~\\anaconda3\\lib\\site-packages\\pyscreeze\\__init__.py:582\u001b[0m, in \u001b[0;36mcenter\u001b[1;34m(coords)\u001b[0m\n\u001b[0;32m    566\u001b[0m \u001b[38;5;124;03m\"\"\"\u001b[39;00m\n\u001b[0;32m    567\u001b[0m \u001b[38;5;124;03mReturns a `Point` object with the x and y set to an integer determined by the format of `coords`.\u001b[39;00m\n\u001b[0;32m    568\u001b[0m \n\u001b[1;32m   (...)\u001b[0m\n\u001b[0;32m    578\u001b[0m \u001b[38;5;124;03mPoint(x=14, y=15)\u001b[39;00m\n\u001b[0;32m    579\u001b[0m \u001b[38;5;124;03m\"\"\"\u001b[39;00m\n\u001b[0;32m    581\u001b[0m \u001b[38;5;66;03m# TODO - one day, add code to handle a Box namedtuple.\u001b[39;00m\n\u001b[1;32m--> 582\u001b[0m \u001b[38;5;28;01mreturn\u001b[39;00m Point(\u001b[43mcoords\u001b[49m\u001b[43m[\u001b[49m\u001b[38;5;241;43m0\u001b[39;49m\u001b[43m]\u001b[49m \u001b[38;5;241m+\u001b[39m \u001b[38;5;28mint\u001b[39m(coords[\u001b[38;5;241m2\u001b[39m] \u001b[38;5;241m/\u001b[39m \u001b[38;5;241m2\u001b[39m), coords[\u001b[38;5;241m1\u001b[39m] \u001b[38;5;241m+\u001b[39m \u001b[38;5;28mint\u001b[39m(coords[\u001b[38;5;241m3\u001b[39m] \u001b[38;5;241m/\u001b[39m \u001b[38;5;241m2\u001b[39m))\n",
      "\u001b[1;31mTypeError\u001b[0m: 'NoneType' object is not subscriptable"
     ]
    }
   ],
   "source": [
    "time.sleep(1)\n",
    "\n",
    "# 0. 로그인\n",
    "imgClick(\"D:/issue/bigkinds_crawl/img/login.png\", 0.2)\n",
    "imgClick(\"D:/issue/bigkinds_crawl/img/email.png\", 0.2)\n",
    "pag.hotkey('ctrl', 'a')\n",
    "pag.press('delete')\n",
    "pyperclip.copy(email)\n",
    "pag.hotkey('ctrl', 'v')\n",
    "imgClick(\"D:/issue/bigkinds_crawl/img/pw.png\", 0.2)\n",
    "pag.hotkey('ctrl', 'a')\n",
    "pag.press('delete')\n",
    "pyperclip.copy(pw)\n",
    "pag.hotkey('ctrl', 'v')\n",
    "pag.hotkey('enter')\n",
    "\n",
    "for keyword in keywords['keyword']:\n",
    "    \n",
    "    # 1. 검색어 창 클릭 후 검색어 입력\n",
    "    imgClick(\"D:/issue/bigkinds_crawl/img/search_bar.png\", 0.2)\n",
    "    pag.hotkey('ctrl', 'a')\n",
    "    pag.press('delete')\n",
    "    pyperclip.copy(keyword)\n",
    "    pag.hotkey('ctrl', 'v')\n",
    "    \n",
    "    imgClick(\"D:/issue/bigkinds_crawl/img/date.png\", 0.2)\n",
    "    imgClick(\"D:/issue/bigkinds_crawl/img/year.png\", 0.2)\n",
    "    \n",
    "    \n",
    "    # 2. 스크롤 내려서 검색 버튼 클릭\n",
    "    while True:\n",
    "        try:\n",
    "            imgClick(\"D:/issue/bigkinds_crawl/img/search_btn.png\", 5)\n",
    "            break\n",
    "        except:\n",
    "            scroll(-300)\n",
    "            \n",
    "            \n",
    "    # 3. 검색 버튼 클릭 후 '분석 결과 및 시각화' 탭 클릭\n",
    "    while True:\n",
    "        try:\n",
    "            imgClick(\"D:/issue/bigkinds_crawl/img/step3.png\", 3)\n",
    "            break\n",
    "        except:\n",
    "            scroll(-300)\n",
    "            \n",
    "            \n",
    "    # 4. '분석 결과 및 시각화' 탭에서 다운로드 버튼 클릭\n",
    "    while True:\n",
    "        try:\n",
    "            imgClick(\"D:/issue/bigkinds_crawl/img/down.png\", 3)\n",
    "            break\n",
    "        except:\n",
    "            scroll(-300)\n",
    "            \n",
    "            \n",
    "    # 5. 다운로드 창 닫고 브라우저 초기화\n",
    "    while True:\n",
    "        try:\n",
    "            imgClick(\"D:/issue/bigkinds_crawl/img/x.png\", 3)\n",
    "            break\n",
    "        except:\n",
    "            time.sleep(1)\n",
    "    pag.press('home')\n",
    "    time.sleep(1)\n",
    "    imgClick(\"D:/issue/bigkinds_crawl/img/step1.png\", 0.1)\n",
    "    \n",
    "    \n",
    "    # 6. 저장한 파일명 변경\n",
    "    imgClick(\"D:/issue/bigkinds_crawl/img/sort.png\", 0.2)\n",
    "    xy = pag.position()\n",
    "    pag.click(xy)\n",
    "    time.sleep(1)\n",
    "    \n",
    "    imgClick(\"D:/issue/bigkinds_crawl/img/oldname.png\", 1)\n",
    "    xy = pag.position()\n",
    "    pag.click(xy)\n",
    "    time.sleep(1)\n",
    "    pag.press('delete')\n",
    "    pyperclip.copy(keyword[1:-1])\n",
    "    pag.hotkey('ctrl', 'v')\n",
    "    pag.hotkey('enter')"
   ]
  },
  {
   "cell_type": "code",
   "execution_count": null,
   "id": "2417e59e",
   "metadata": {},
   "outputs": [],
   "source": []
  },
  {
   "cell_type": "code",
   "execution_count": null,
   "id": "8220754b",
   "metadata": {},
   "outputs": [],
   "source": []
  }
 ],
 "metadata": {
  "kernelspec": {
   "display_name": "Python 3 (ipykernel)",
   "language": "python",
   "name": "python3"
  },
  "language_info": {
   "codemirror_mode": {
    "name": "ipython",
    "version": 3
   },
   "file_extension": ".py",
   "mimetype": "text/x-python",
   "name": "python",
   "nbconvert_exporter": "python",
   "pygments_lexer": "ipython3",
   "version": "3.9.12"
  }
 },
 "nbformat": 4,
 "nbformat_minor": 5
}
