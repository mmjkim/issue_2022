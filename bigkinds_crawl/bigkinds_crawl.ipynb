{
 "cells": [
  {
   "cell_type": "code",
   "execution_count": null,
   "id": "99358612",
   "metadata": {
    "pycharm": {
     "name": "#%%\n",
     "is_executing": true
    }
   },
   "outputs": [],
   "source": [
    "import time\n",
    "import pyautogui as pag\n",
    "import pyperclip\n",
    "import cv2\n",
    "import pandas as pd\n",
    "from PIL import ImageGrab\n",
    "from functools import partial\n",
    "\n",
    "ImageGrab.grab = partial(ImageGrab.grab, all_screens=True)"
   ]
  },
  {
   "cell_type": "code",
   "execution_count": null,
   "id": "12341178",
   "metadata": {
    "pycharm": {
     "name": "#%%\n",
     "is_executing": true
    }
   },
   "outputs": [],
   "source": [
    "# import webbrowser\n",
    "\n",
    "\n",
    "# url = \"https://www.bigkinds.or.kr/v2/news/index.do\"\n",
    "# webbrowser.open(url)"
   ]
  },
  {
   "cell_type": "code",
   "execution_count": null,
   "id": "7af5d9da",
   "metadata": {
    "pycharm": {
     "name": "#%%\n",
     "is_executing": true
    }
   },
   "outputs": [],
   "source": [
    "def imgClick(filename, t):\n",
    "    imgfile = pag.locateOnScreen(filename, confidence=0.9)\n",
    "    print(imgfile)\n",
    "    center = pag.center(imgfile)\n",
    "    pag.moveTo(center)\n",
    "    pag.click(center)\n",
    "    time.sleep(t)"
   ]
  },
  {
   "cell_type": "code",
   "execution_count": null,
   "id": "4b34887c",
   "metadata": {
    "pycharm": {
     "name": "#%%\n",
     "is_executing": true
    }
   },
   "outputs": [],
   "source": [
    "def scroll(line):\n",
    "    time.sleep(0.5)\n",
    "    pag.scroll(line)\n",
    "    time.sleep(0.5)"
   ]
  },
  {
   "cell_type": "code",
   "execution_count": null,
   "id": "41ea4805",
   "metadata": {
    "pycharm": {
     "name": "#%%\n",
     "is_executing": true
    }
   },
   "outputs": [],
   "source": [
    "keywords = pd.read_csv(\"D:/issue/bigkinds_crawl/bigkinds_keyword.csv\")\n",
    "keywords\n",
    "# ['(택시 대란 OR 우버 OR 타다)', '(코로나 AND 마스크)', '(미세먼지)']"
   ]
  },
  {
   "cell_type": "code",
   "execution_count": null,
   "id": "095fd081",
   "metadata": {
    "pycharm": {
     "name": "#%%\n",
     "is_executing": true
    }
   },
   "outputs": [],
   "source": [
    "email = input('이메일 주소를 입력하세요:')\n",
    "pw = input('패스워드를 입력하세요:')"
   ]
  },
  {
   "cell_type": "code",
   "execution_count": null,
   "id": "81818c69",
   "metadata": {
    "pycharm": {
     "name": "#%%\n",
     "is_executing": true
    }
   },
   "outputs": [],
   "source": [
    "from selenium import webdriver\n",
    "\n",
    "# Webdriver 실행\n",
    "dr = webdriver.Chrome('D:/chromedriver.exe')\n",
    "\n",
    "# Webdriver에서 네이버 페이지 접속\n",
    "dr.get(\"https://www.bigkinds.or.kr/v2/news/index.do\")\n",
    "dr.maximize_window()"
   ]
  },
  {
   "cell_type": "code",
   "execution_count": 28,
   "id": "ee4f8c2d",
   "metadata": {
    "pycharm": {
     "name": "#%%\n"
    }
   },
   "outputs": [
    {
     "ename": "TypeError",
     "evalue": "'NoneType' object is not subscriptable",
     "output_type": "error",
     "traceback": [
      "\u001B[1;31m---------------------------------------------------------------------------\u001B[0m",
      "\u001B[1;31mTypeError\u001B[0m                                 Traceback (most recent call last)",
      "Input \u001B[1;32mIn [28]\u001B[0m, in \u001B[0;36m<cell line: 17>\u001B[1;34m()\u001B[0m\n\u001B[0;32m     66\u001B[0m imgClick(\u001B[38;5;124m\"\u001B[39m\u001B[38;5;124mD:/issue/bigkinds_crawl/img/step1.png\u001B[39m\u001B[38;5;124m\"\u001B[39m, \u001B[38;5;241m0.1\u001B[39m)\n\u001B[0;32m     69\u001B[0m \u001B[38;5;66;03m# 6. 저장한 파일명 변경\u001B[39;00m\n\u001B[1;32m---> 70\u001B[0m \u001B[43mimgClick\u001B[49m\u001B[43m(\u001B[49m\u001B[38;5;124;43m\"\u001B[39;49m\u001B[38;5;124;43mD:/issue/bigkinds_crawl/img/sort.png\u001B[39;49m\u001B[38;5;124;43m\"\u001B[39;49m\u001B[43m,\u001B[49m\u001B[43m \u001B[49m\u001B[38;5;241;43m0.2\u001B[39;49m\u001B[43m)\u001B[49m\n\u001B[0;32m     71\u001B[0m xy \u001B[38;5;241m=\u001B[39m pag\u001B[38;5;241m.\u001B[39mposition()\n\u001B[0;32m     72\u001B[0m pag\u001B[38;5;241m.\u001B[39mclick(xy)\n",
      "Input \u001B[1;32mIn [21]\u001B[0m, in \u001B[0;36mimgClick\u001B[1;34m(filename, t)\u001B[0m\n\u001B[0;32m      2\u001B[0m     imgfile \u001B[38;5;241m=\u001B[39m pag\u001B[38;5;241m.\u001B[39mlocateOnScreen(filename, confidence\u001B[38;5;241m=\u001B[39m\u001B[38;5;241m0.9\u001B[39m)\n\u001B[0;32m      3\u001B[0m \u001B[38;5;66;03m#     print(imgfile)\u001B[39;00m\n\u001B[1;32m----> 4\u001B[0m     center \u001B[38;5;241m=\u001B[39m \u001B[43mpag\u001B[49m\u001B[38;5;241;43m.\u001B[39;49m\u001B[43mcenter\u001B[49m\u001B[43m(\u001B[49m\u001B[43mimgfile\u001B[49m\u001B[43m)\u001B[49m\n\u001B[0;32m      5\u001B[0m     pag\u001B[38;5;241m.\u001B[39mmoveTo(center)\n\u001B[0;32m      6\u001B[0m     pag\u001B[38;5;241m.\u001B[39mclick(center)\n",
      "File \u001B[1;32m~\\anaconda3\\lib\\site-packages\\pyscreeze\\__init__.py:582\u001B[0m, in \u001B[0;36mcenter\u001B[1;34m(coords)\u001B[0m\n\u001B[0;32m    566\u001B[0m \u001B[38;5;124;03m\"\"\"\u001B[39;00m\n\u001B[0;32m    567\u001B[0m \u001B[38;5;124;03mReturns a `Point` object with the x and y set to an integer determined by the format of `coords`.\u001B[39;00m\n\u001B[0;32m    568\u001B[0m \n\u001B[1;32m   (...)\u001B[0m\n\u001B[0;32m    578\u001B[0m \u001B[38;5;124;03mPoint(x=14, y=15)\u001B[39;00m\n\u001B[0;32m    579\u001B[0m \u001B[38;5;124;03m\"\"\"\u001B[39;00m\n\u001B[0;32m    581\u001B[0m \u001B[38;5;66;03m# TODO - one day, add code to handle a Box namedtuple.\u001B[39;00m\n\u001B[1;32m--> 582\u001B[0m \u001B[38;5;28;01mreturn\u001B[39;00m Point(\u001B[43mcoords\u001B[49m\u001B[43m[\u001B[49m\u001B[38;5;241;43m0\u001B[39;49m\u001B[43m]\u001B[49m \u001B[38;5;241m+\u001B[39m \u001B[38;5;28mint\u001B[39m(coords[\u001B[38;5;241m2\u001B[39m] \u001B[38;5;241m/\u001B[39m \u001B[38;5;241m2\u001B[39m), coords[\u001B[38;5;241m1\u001B[39m] \u001B[38;5;241m+\u001B[39m \u001B[38;5;28mint\u001B[39m(coords[\u001B[38;5;241m3\u001B[39m] \u001B[38;5;241m/\u001B[39m \u001B[38;5;241m2\u001B[39m))\n",
      "\u001B[1;31mTypeError\u001B[0m: 'NoneType' object is not subscriptable"
     ]
    }
   ],
   "source": [
    "time.sleep(1)\n",
    "\n",
    "# 0. 로그인\n",
    "imgClick(\"D:/issue/bigkinds_crawl/img/login.png\", 0.2)\n",
    "imgClick(\"D:/issue/bigkinds_crawl/img/email.png\", 0.2)\n",
    "pag.hotkey('ctrl', 'a')\n",
    "pag.press('delete')\n",
    "pyperclip.copy(email)\n",
    "pag.hotkey('ctrl', 'v')\n",
    "imgClick(\"D:/issue/bigkinds_crawl/img/pw.png\", 0.2)\n",
    "pag.hotkey('ctrl', 'a')\n",
    "pag.press('delete')\n",
    "pyperclip.copy(pw)\n",
    "pag.hotkey('ctrl', 'v')\n",
    "pag.hotkey('enter')\n",
    "\n",
    "for keyword in keywords['keyword']:\n",
    "    \n",
    "    # 1. 검색어 창 클릭 후 검색어 입력\n",
    "    imgClick(\"D:/issue/bigkinds_crawl/img/search_bar.png\", 0.2)\n",
    "    pag.hotkey('ctrl', 'a')\n",
    "    pag.press('delete')\n",
    "    pyperclip.copy(keyword)\n",
    "    pag.hotkey('ctrl', 'v')\n",
    "    \n",
    "    imgClick(\"D:/issue/bigkinds_crawl/img/date.png\", 0.2)\n",
    "    imgClick(\"D:/issue/bigkinds_crawl/img/year.png\", 0.2)\n",
    "    \n",
    "    \n",
    "    # 2. 스크롤 내려서 검색 버튼 클릭\n",
    "    while True:\n",
    "        try:\n",
    "            imgClick(\"D:/issue/bigkinds_crawl/img/search_btn.png\", 5)\n",
    "            break\n",
    "        except:\n",
    "            scroll(-300)\n",
    "            \n",
    "            \n",
    "    # 3. 검색 버튼 클릭 후 '분석 결과 및 시각화' 탭 클릭\n",
    "    while True:\n",
    "        try:\n",
    "            imgClick(\"D:/issue/bigkinds_crawl/img/step3.png\", 3)\n",
    "            break\n",
    "        except:\n",
    "            scroll(-300)\n",
    "            \n",
    "            \n",
    "    # 4. '분석 결과 및 시각화' 탭에서 다운로드 버튼 클릭\n",
    "    while True:\n",
    "        try:\n",
    "            imgClick(\"D:/issue/bigkinds_crawl/img/down.png\", 3)\n",
    "            break\n",
    "        except:\n",
    "            scroll(-300)\n",
    "            \n",
    "            \n",
    "    # 5. 다운로드 창 닫고 브라우저 초기화\n",
    "    while True:\n",
    "        try:\n",
    "            imgClick(\"D:/issue/bigkinds_crawl/img/x.png\", 3)\n",
    "            break\n",
    "        except:\n",
    "            time.sleep(1)\n",
    "    pag.press('home')\n",
    "    time.sleep(1)\n",
    "    imgClick(\"D:/issue/bigkinds_crawl/img/step1.png\", 0.1)\n",
    "    \n",
    "    \n",
    "    # 6. 저장한 파일명 변경\n",
    "    imgClick(\"D:/issue/bigkinds_crawl/img/sort.png\", 0.2)\n",
    "    xy = pag.position()\n",
    "    pag.click(xy)\n",
    "    time.sleep(1)\n",
    "    \n",
    "    imgClick(\"D:/issue/bigkinds_crawl/img/oldname.png\", 1)\n",
    "    xy = pag.position()\n",
    "    pag.click(xy)\n",
    "    time.sleep(1)\n",
    "    pag.press('delete')\n",
    "    pyperclip.copy(keyword[1:-1])\n",
    "    pag.hotkey('ctrl', 'v')\n",
    "    pag.hotkey('enter')"
   ]
  },
  {
   "cell_type": "code",
   "execution_count": null,
   "id": "2417e59e",
   "metadata": {
    "pycharm": {
     "name": "#%%\n"
    }
   },
   "outputs": [],
   "source": []
  },
  {
   "cell_type": "code",
   "execution_count": null,
   "id": "8220754b",
   "metadata": {
    "pycharm": {
     "name": "#%%\n"
    }
   },
   "outputs": [],
   "source": []
  }
 ],
 "metadata": {
  "kernelspec": {
   "display_name": "Python 3 (ipykernel)",
   "language": "python",
   "name": "python3"
  },
  "language_info": {
   "codemirror_mode": {
    "name": "ipython",
    "version": 3
   },
   "file_extension": ".py",
   "mimetype": "text/x-python",
   "name": "python",
   "nbconvert_exporter": "python",
   "pygments_lexer": "ipython3",
   "version": "3.9.12"
  }
 },
 "nbformat": 4,
 "nbformat_minor": 5
}