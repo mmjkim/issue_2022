{
 "cells": [
  {
   "cell_type": "code",
   "execution_count": 1,
   "id": "99358612",
   "metadata": {
    "pycharm": {
     "name": "#%%\n"
    }
   },
   "outputs": [],
   "source": [
    "import os\n",
    "import time\n",
    "import pyautogui as pag\n",
    "import pyperclip\n",
    "import cv2\n",
    "import pandas as pd\n",
    "from selenium import webdriver\n",
    "\n",
    "# 듀얼 모니터 사용\n",
    "from PIL import ImageGrab\n",
    "from functools import partial\n",
    "ImageGrab.grab = partial(ImageGrab.grab, all_screens=True)"
   ]
  },
  {
   "cell_type": "code",
   "execution_count": 2,
   "outputs": [
    {
     "name": "stdout",
     "output_type": "stream",
     "text": [
      "================ :  D:\\issue\\issuePjt\\bigkinds_crawl\\\n",
      "================ :  C:/Users/hjshi/Downloads/\n"
     ]
    }
   ],
   "source": [
    "from common.config.filepassclass import *\n",
    "\n",
    "file_path = FilePathClass()\n",
    "get_bigkinds_crawl_path = file_path.get_bigkinds_crawl_path()\n",
    "get_download_path = file_path.get_download_path()"
   ],
   "metadata": {
    "collapsed": false,
    "pycharm": {
     "name": "#%%\n"
    }
   }
  },
  {
   "cell_type": "code",
   "execution_count": 3,
   "id": "7af5d9da",
   "metadata": {
    "pycharm": {
     "name": "#%%\n"
    }
   },
   "outputs": [],
   "source": [
    "def imgClick(filename, t):\n",
    "    imgfile = pag.locateOnScreen(filename, confidence=0.9)\n",
    "    # print(imgfile)\n",
    "    center = pag.center(imgfile)\n",
    "    pag.moveTo(center)\n",
    "    pag.click(center)\n",
    "    time.sleep(t)"
   ]
  },
  {
   "cell_type": "code",
   "execution_count": 4,
   "id": "4b34887c",
   "metadata": {
    "pycharm": {
     "name": "#%%\n"
    }
   },
   "outputs": [],
   "source": [
    "def scroll(line):\n",
    "    time.sleep(0.5)\n",
    "    pag.scroll(line)\n",
    "    time.sleep(0.5)"
   ]
  },
  {
   "cell_type": "code",
   "execution_count": 10,
   "id": "2417e59e",
   "metadata": {
    "pycharm": {
     "name": "#%%\n"
    }
   },
   "outputs": [],
   "source": [
    "def get_bigkinds_data(email, pw):\n",
    "    for win in pag.getAllWindows():\n",
    "        if win.isMinimized == False:\n",
    "            win.minimize()\n",
    "\n",
    "    email = email\n",
    "    pw = pw\n",
    "\n",
    "    # Webdriver 실행\n",
    "    dr = webdriver.Chrome(get_bigkinds_crawl_path + 'chromedriver.exe')\n",
    "\n",
    "    # Webdriver에서 페이지 접속\n",
    "    dr.get(\"https://www.bigkinds.or.kr/v2/news/index.do\")\n",
    "    dr.maximize_window()\n",
    "\n",
    "    # 다운로드 창 열기\n",
    "    os.startfile(get_download_path)\n",
    "\n",
    "    # 0. 로그인\n",
    "    time.sleep(1)\n",
    "    imgClick(get_bigkinds_crawl_path + \"img/login.png\", 0.2)\n",
    "    imgClick(get_bigkinds_crawl_path + \"img/email.png\", 0.2)\n",
    "    pag.hotkey('ctrl', 'a')\n",
    "    pag.press('delete')\n",
    "    pyperclip.copy(email)\n",
    "    pag.hotkey('ctrl', 'v')\n",
    "    imgClick(get_bigkinds_crawl_path + \"img/pw.png\", 0.2)\n",
    "    pag.hotkey('ctrl', 'a')\n",
    "    pag.press('delete')\n",
    "    pyperclip.copy(pw)\n",
    "    pag.hotkey('ctrl', 'v')\n",
    "    pag.hotkey('enter')\n",
    "\n",
    "    imgClick(get_bigkinds_crawl_path + \"img/date.png\", 0.2)\n",
    "    imgClick(get_bigkinds_crawl_path + \"img/year.png\", 0.2)\n",
    "\n",
    "\n",
    "    for keyword in keywords['keyword']:\n",
    "        while True:\n",
    "            try:\n",
    "                imgClick(get_bigkinds_crawl_path + \"img/x.png\", 3)\n",
    "                break\n",
    "            except:\n",
    "                time.sleep(1)\n",
    "\n",
    "        # 1. 검색어 창 클릭 후 검색어 입력\n",
    "        imgClick(get_bigkinds_crawl_path + \"img/search_bar.png\", 0.2)\n",
    "        pag.hotkey('ctrl', 'a')\n",
    "        pag.press('delete')\n",
    "        pyperclip.copy(keyword)\n",
    "        pag.hotkey('ctrl', 'v')\n",
    "\n",
    "\n",
    "        # 2. 스크롤 내려서 검색 버튼 클릭\n",
    "        while True:\n",
    "            try:\n",
    "                imgClick(get_bigkinds_crawl_path + \"img/search_btn.png\", 0.2)\n",
    "                break\n",
    "            except:\n",
    "                scroll(-300)\n",
    "\n",
    "\n",
    "        # 3. 검색 버튼 클릭 후 '분석 결과 및 시각화' 탭 클릭\n",
    "        while True:\n",
    "            try:\n",
    "                imgClick(get_bigkinds_crawl_path + \"img/step3.png\", 2)\n",
    "                break\n",
    "            except:\n",
    "                scroll(-500)\n",
    "\n",
    "\n",
    "        # 4. '분석 결과 및 시각화' 탭에서 다운로드 버튼 클릭\n",
    "        while True:\n",
    "            try:\n",
    "                # scroll(+100)\n",
    "                imgClick(get_bigkinds_crawl_path + \"img/down.png\", 5)\n",
    "                # time.sleep(3)\n",
    "                break\n",
    "            except:\n",
    "                scroll(-100)\n",
    "\n",
    "        imgClick(get_bigkinds_crawl_path + \"img/sort.png\", 0.2)\n",
    "        xy = pag.position()\n",
    "        pag.click(xy)\n",
    "\n",
    "\n",
    "        # 5. 저장한 파일명 변경\n",
    "        while True:\n",
    "            try:\n",
    "                # time.sleep(1)\n",
    "                imgClick(get_bigkinds_crawl_path + \"img/oldname.png\", 1)\n",
    "                break\n",
    "            except:\n",
    "                time.sleep(1)\n",
    "\n",
    "        xy1 = pag.position()\n",
    "        pag.click(xy1)\n",
    "        time.sleep(1)\n",
    "        pyperclip.copy(keyword[1:-1])\n",
    "        time.sleep(1)\n",
    "        pag.press('delete')\n",
    "        pag.hotkey('ctrl', 'v')\n",
    "        pag.hotkey('enter')\n",
    "        time.sleep(0.5)\n",
    "\n",
    "\n",
    "        # 6. 다운로드 창 닫고 브라우저 초기화\n",
    "        pag.moveTo(50,50)\n",
    "        xxyy = pag.position()\n",
    "        pag.click(xxyy)\n",
    "        time.sleep(2)\n",
    "        pag.press('home')\n",
    "        time.sleep(1)\n",
    "        imgClick(get_bigkinds_crawl_path + \"img/step1.png\", 0.1)\n",
    "        time.sleep(1)"
   ]
  },
  {
   "cell_type": "code",
   "execution_count": 6,
   "outputs": [],
   "source": [
    "keywords = pd.read_csv(get_bigkinds_crawl_path + \"bigkinds_keyword.csv\")\n",
    "# (택시대란 OR 우버 OR 타다) (코로나 AND 마스크) (미세먼지)"
   ],
   "metadata": {
    "collapsed": false,
    "pycharm": {
     "name": "#%%\n"
    }
   }
  },
  {
   "cell_type": "code",
   "execution_count": 7,
   "outputs": [],
   "source": [
    "email = input('이메일 주소를 입력하세요:')\n",
    "from getpass import getpass\n",
    "pw = getpass('패스워드를 입력하세요:')"
   ],
   "metadata": {
    "collapsed": false,
    "pycharm": {
     "name": "#%%\n"
    }
   }
  },
  {
   "cell_type": "code",
   "execution_count": 11,
   "outputs": [
    {
     "name": "stderr",
     "output_type": "stream",
     "text": [
      "C:\\Users\\hjshi\\AppData\\Local\\Temp\\ipykernel_29096\\2494654847.py:10: DeprecationWarning: executable_path has been deprecated, please pass in a Service object\n",
      "  dr = webdriver.Chrome(get_bigkinds_crawl_path + 'chromedriver.exe')\n"
     ]
    }
   ],
   "source": [
    "get_bigkinds_data(email, pw)"
   ],
   "metadata": {
    "collapsed": false,
    "pycharm": {
     "name": "#%%\n"
    }
   }
  },
  {
   "cell_type": "code",
   "execution_count": null,
   "outputs": [],
   "source": [],
   "metadata": {
    "collapsed": false,
    "pycharm": {
     "name": "#%%\n"
    }
   }
  }
 ],
 "metadata": {
  "kernelspec": {
   "display_name": "Python 3 (ipykernel)",
   "language": "python",
   "name": "python3"
  },
  "language_info": {
   "codemirror_mode": {
    "name": "ipython",
    "version": 3
   },
   "file_extension": ".py",
   "mimetype": "text/x-python",
   "name": "python",
   "nbconvert_exporter": "python",
   "pygments_lexer": "ipython3",
   "version": "3.9.12"
  }
 },
 "nbformat": 4,
 "nbformat_minor": 5
}