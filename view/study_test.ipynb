{
 "cells": [
  {
   "cell_type": "code",
   "execution_count": 1,
   "outputs": [],
   "source": [
    "import source.get_api_data_rent_loan_rate as test"
   ],
   "metadata": {
    "collapsed": false,
    "pycharm": {
     "name": "#%%\n"
    }
   }
  },
  {
   "cell_type": "code",
   "execution_count": 4,
   "outputs": [
    {
     "name": "stdout",
     "output_type": "stream",
     "text": [
      "URL:  http://apis.data.go.kr/B551408/rent-loan-rate-info/rate-list?serviceKey=NAiIcJsR2pyzyHlYnLqu9gnPC7D1kVAhhfg6cEq6Y9p6GXiTrbFBbf5ivs%2FmMlAAFuemeNPFbwp2yyJ1G07o9A%3D%3D&numOfRows=10&pageNo=1&dataType=json\n",
      "resJson: \n",
      " {'header': {'resultCode': '00', 'resultMsg': '정상'}, 'body': {'pageNo': 1, 'totalCount': 17, 'numOfRows': 10, 'items': [{'bssYmdStart': '20230109', 'interest4_1': '0', 'interest3_2': '0', 'interest4_2': '0', 'interest2_1': '0', 'interest1_2': '0', 'interest3_1': '0', 'interest2_2': '0', 'interest1_1': '0', 'bssYmdEnd': '20230115', 'organId': 'SC은행', 'callCenter': '1588-1599'}, {'bssYmdStart': '20230109', 'interest4_1': '0', 'interest3_2': '0', 'interest4_2': '0', 'interest2_1': '0', 'interest1_2': '0', 'interest3_1': '0', 'interest2_2': '0', 'interest1_1': '0', 'bssYmdEnd': '20230115', 'organId': '산업은행', 'callCenter': '1588-1500'}, {'bssYmdStart': '20230109', 'interest4_1': '0', 'interest3_2': '0', 'interest4_2': '0', 'interest2_1': '0', 'interest1_2': '0', 'interest3_1': '0', 'interest2_2': '0', 'interest1_1': '0', 'bssYmdEnd': '20230115', 'organId': '제주은행', 'callCenter': '1588-0079'}, {'bssYmdStart': '20230109', 'interest4_1': '0', 'interest3_2': '0', 'interest4_2': '0', 'interest2_1': '0', 'interest1_2': '0', 'interest3_1': '0', 'interest2_2': '0', 'interest1_1': '0', 'bssYmdEnd': '20230115', 'organId': '수협은행', 'callCenter': '1588-1515'}, {'bssYmdStart': '20230109', 'interest4_1': '6.91', 'interest3_2': '0', 'interest4_2': '0', 'interest2_1': '0', 'interest1_2': '0', 'interest3_1': '0', 'interest2_2': '0', 'interest1_1': '0', 'bssYmdEnd': '20230115', 'organId': '광주은행', 'callCenter': '1600-4000'}, {'bssYmdStart': '20230109', 'interest4_1': '0', 'interest3_2': '0', 'interest4_2': '0', 'interest2_1': '0', 'interest1_2': '0', 'interest3_1': '0', 'interest2_2': '0', 'interest1_1': '0', 'bssYmdEnd': '20230115', 'organId': '대구은행', 'callCenter': '1588-5050'}, {'bssYmdStart': '20230109', 'interest4_1': '4.97', 'interest3_2': '0', 'interest4_2': '0', 'interest2_1': '0', 'interest1_2': '0', 'interest3_1': '0', 'interest2_2': '0', 'interest1_1': '0', 'bssYmdEnd': '20230115', 'organId': '농협은행', 'callCenter': '1588-2100'}, {'bssYmdStart': '20230109', 'interest4_1': '4.40', 'interest3_2': '0', 'interest4_2': '0', 'interest2_1': '0', 'interest1_2': '0', 'interest3_1': '0', 'interest2_2': '0', 'interest1_1': '0', 'bssYmdEnd': '20230115', 'organId': '기업은행', 'callCenter': '1566-2566'}, {'bssYmdStart': '20230109', 'interest4_1': '6.23', 'interest3_2': '0', 'interest4_2': '0', 'interest2_1': '0', 'interest1_2': '0', 'interest3_1': '0', 'interest2_2': '0', 'interest1_1': '0', 'bssYmdEnd': '20230115', 'organId': '부산은행', 'callCenter': '1588-6200'}, {'bssYmdStart': '20230109', 'interest4_1': '5.02', 'interest3_2': '0', 'interest4_2': '0', 'interest2_1': '0', 'interest1_2': '0', 'interest3_1': '0', 'interest2_2': '0', 'interest1_1': '0', 'bssYmdEnd': '20230115', 'organId': '카카오뱅크', 'callCenter': '1599-3333'}]}}\n",
      "  bssYmdStart interest4_1 interest3_2 interest4_2 interest2_1 interest1_2  \\\n",
      "0    20230109           0           0           0           0           0   \n",
      "1    20230109           0           0           0           0           0   \n",
      "2    20230109           0           0           0           0           0   \n",
      "3    20230109           0           0           0           0           0   \n",
      "4    20230109        6.91           0           0           0           0   \n",
      "5    20230109           0           0           0           0           0   \n",
      "6    20230109        4.97           0           0           0           0   \n",
      "7    20230109        4.40           0           0           0           0   \n",
      "8    20230109        6.23           0           0           0           0   \n",
      "9    20230109        5.02           0           0           0           0   \n",
      "\n",
      "  interest3_1 interest2_2 interest1_1 bssYmdEnd organId callCenter  \n",
      "0           0           0           0  20230115    SC은행  1588-1599  \n",
      "1           0           0           0  20230115    산업은행  1588-1500  \n",
      "2           0           0           0  20230115    제주은행  1588-0079  \n",
      "3           0           0           0  20230115    수협은행  1588-1515  \n",
      "4           0           0           0  20230115    광주은행  1600-4000  \n",
      "5           0           0           0  20230115    대구은행  1588-5050  \n",
      "6           0           0           0  20230115    농협은행  1588-2100  \n",
      "7           0           0           0  20230115    기업은행  1566-2566  \n",
      "8           0           0           0  20230115    부산은행  1588-6200  \n",
      "9           0           0           0  20230115   카카오뱅크  1599-3333  \n",
      "\n"
     ]
    },
    {
     "data": {
      "text/plain": "  bssYmdStart interest4_1 interest3_2 interest4_2 interest2_1 interest1_2  \\\n0    20230109           0           0           0           0           0   \n1    20230109           0           0           0           0           0   \n2    20230109           0           0           0           0           0   \n3    20230109           0           0           0           0           0   \n4    20230109        6.91           0           0           0           0   \n5    20230109           0           0           0           0           0   \n6    20230109        4.97           0           0           0           0   \n7    20230109        4.40           0           0           0           0   \n8    20230109        6.23           0           0           0           0   \n9    20230109        5.02           0           0           0           0   \n\n  interest3_1 interest2_2 interest1_1 bssYmdEnd organId callCenter  \n0           0           0           0  20230115    SC은행  1588-1599  \n1           0           0           0  20230115    산업은행  1588-1500  \n2           0           0           0  20230115    제주은행  1588-0079  \n3           0           0           0  20230115    수협은행  1588-1515  \n4           0           0           0  20230115    광주은행  1600-4000  \n5           0           0           0  20230115    대구은행  1588-5050  \n6           0           0           0  20230115    농협은행  1588-2100  \n7           0           0           0  20230115    기업은행  1566-2566  \n8           0           0           0  20230115    부산은행  1588-6200  \n9           0           0           0  20230115   카카오뱅크  1599-3333  ",
      "text/html": "<div>\n<style scoped>\n    .dataframe tbody tr th:only-of-type {\n        vertical-align: middle;\n    }\n\n    .dataframe tbody tr th {\n        vertical-align: top;\n    }\n\n    .dataframe thead th {\n        text-align: right;\n    }\n</style>\n<table border=\"1\" class=\"dataframe\">\n  <thead>\n    <tr style=\"text-align: right;\">\n      <th></th>\n      <th>bssYmdStart</th>\n      <th>interest4_1</th>\n      <th>interest3_2</th>\n      <th>interest4_2</th>\n      <th>interest2_1</th>\n      <th>interest1_2</th>\n      <th>interest3_1</th>\n      <th>interest2_2</th>\n      <th>interest1_1</th>\n      <th>bssYmdEnd</th>\n      <th>organId</th>\n      <th>callCenter</th>\n    </tr>\n  </thead>\n  <tbody>\n    <tr>\n      <th>0</th>\n      <td>20230109</td>\n      <td>0</td>\n      <td>0</td>\n      <td>0</td>\n      <td>0</td>\n      <td>0</td>\n      <td>0</td>\n      <td>0</td>\n      <td>0</td>\n      <td>20230115</td>\n      <td>SC은행</td>\n      <td>1588-1599</td>\n    </tr>\n    <tr>\n      <th>1</th>\n      <td>20230109</td>\n      <td>0</td>\n      <td>0</td>\n      <td>0</td>\n      <td>0</td>\n      <td>0</td>\n      <td>0</td>\n      <td>0</td>\n      <td>0</td>\n      <td>20230115</td>\n      <td>산업은행</td>\n      <td>1588-1500</td>\n    </tr>\n    <tr>\n      <th>2</th>\n      <td>20230109</td>\n      <td>0</td>\n      <td>0</td>\n      <td>0</td>\n      <td>0</td>\n      <td>0</td>\n      <td>0</td>\n      <td>0</td>\n      <td>0</td>\n      <td>20230115</td>\n      <td>제주은행</td>\n      <td>1588-0079</td>\n    </tr>\n    <tr>\n      <th>3</th>\n      <td>20230109</td>\n      <td>0</td>\n      <td>0</td>\n      <td>0</td>\n      <td>0</td>\n      <td>0</td>\n      <td>0</td>\n      <td>0</td>\n      <td>0</td>\n      <td>20230115</td>\n      <td>수협은행</td>\n      <td>1588-1515</td>\n    </tr>\n    <tr>\n      <th>4</th>\n      <td>20230109</td>\n      <td>6.91</td>\n      <td>0</td>\n      <td>0</td>\n      <td>0</td>\n      <td>0</td>\n      <td>0</td>\n      <td>0</td>\n      <td>0</td>\n      <td>20230115</td>\n      <td>광주은행</td>\n      <td>1600-4000</td>\n    </tr>\n    <tr>\n      <th>5</th>\n      <td>20230109</td>\n      <td>0</td>\n      <td>0</td>\n      <td>0</td>\n      <td>0</td>\n      <td>0</td>\n      <td>0</td>\n      <td>0</td>\n      <td>0</td>\n      <td>20230115</td>\n      <td>대구은행</td>\n      <td>1588-5050</td>\n    </tr>\n    <tr>\n      <th>6</th>\n      <td>20230109</td>\n      <td>4.97</td>\n      <td>0</td>\n      <td>0</td>\n      <td>0</td>\n      <td>0</td>\n      <td>0</td>\n      <td>0</td>\n      <td>0</td>\n      <td>20230115</td>\n      <td>농협은행</td>\n      <td>1588-2100</td>\n    </tr>\n    <tr>\n      <th>7</th>\n      <td>20230109</td>\n      <td>4.40</td>\n      <td>0</td>\n      <td>0</td>\n      <td>0</td>\n      <td>0</td>\n      <td>0</td>\n      <td>0</td>\n      <td>0</td>\n      <td>20230115</td>\n      <td>기업은행</td>\n      <td>1566-2566</td>\n    </tr>\n    <tr>\n      <th>8</th>\n      <td>20230109</td>\n      <td>6.23</td>\n      <td>0</td>\n      <td>0</td>\n      <td>0</td>\n      <td>0</td>\n      <td>0</td>\n      <td>0</td>\n      <td>0</td>\n      <td>20230115</td>\n      <td>부산은행</td>\n      <td>1588-6200</td>\n    </tr>\n    <tr>\n      <th>9</th>\n      <td>20230109</td>\n      <td>5.02</td>\n      <td>0</td>\n      <td>0</td>\n      <td>0</td>\n      <td>0</td>\n      <td>0</td>\n      <td>0</td>\n      <td>0</td>\n      <td>20230115</td>\n      <td>카카오뱅크</td>\n      <td>1599-3333</td>\n    </tr>\n  </tbody>\n</table>\n</div>"
     },
     "execution_count": 4,
     "metadata": {},
     "output_type": "execute_result"
    }
   ],
   "source": [
    "test.get_rent_loan_rate()"
   ],
   "metadata": {
    "collapsed": false,
    "pycharm": {
     "name": "#%%\n"
    }
   }
  },
  {
   "cell_type": "code",
   "execution_count": 2,
   "outputs": [
    {
     "name": "stdout",
     "output_type": "stream",
     "text": [
      "URL:  http://apis.data.go.kr/B551408/rent-loan-rate-info/rate-list?serviceKey=NAiIcJsR2pyzyHlYnLqu9gnPC7D1kVAhhfg6cEq6Y9p6GXiTrbFBbf5ivs%2FmMlAAFuemeNPFbwp2yyJ1G07o9A%3D%3D&numOfRows=10&pageNo=1&dataType=json\n",
      "resJson: \n",
      " {'header': {'resultCode': '00', 'resultMsg': '정상'}, 'body': {'pageNo': 1, 'totalCount': 17, 'numOfRows': 10, 'items': [{'bssYmdStart': '20230109', 'interest4_1': '0', 'interest3_2': '0', 'interest4_2': '0', 'interest2_1': '0', 'interest1_2': '0', 'interest3_1': '0', 'interest2_2': '0', 'interest1_1': '0', 'bssYmdEnd': '20230115', 'organId': 'SC은행', 'callCenter': '1588-1599'}, {'bssYmdStart': '20230109', 'interest4_1': '0', 'interest3_2': '0', 'interest4_2': '0', 'interest2_1': '0', 'interest1_2': '0', 'interest3_1': '0', 'interest2_2': '0', 'interest1_1': '0', 'bssYmdEnd': '20230115', 'organId': '산업은행', 'callCenter': '1588-1500'}, {'bssYmdStart': '20230109', 'interest4_1': '0', 'interest3_2': '0', 'interest4_2': '0', 'interest2_1': '0', 'interest1_2': '0', 'interest3_1': '0', 'interest2_2': '0', 'interest1_1': '0', 'bssYmdEnd': '20230115', 'organId': '제주은행', 'callCenter': '1588-0079'}, {'bssYmdStart': '20230109', 'interest4_1': '0', 'interest3_2': '0', 'interest4_2': '0', 'interest2_1': '0', 'interest1_2': '0', 'interest3_1': '0', 'interest2_2': '0', 'interest1_1': '0', 'bssYmdEnd': '20230115', 'organId': '수협은행', 'callCenter': '1588-1515'}, {'bssYmdStart': '20230109', 'interest4_1': '6.91', 'interest3_2': '0', 'interest4_2': '0', 'interest2_1': '0', 'interest1_2': '0', 'interest3_1': '0', 'interest2_2': '0', 'interest1_1': '0', 'bssYmdEnd': '20230115', 'organId': '광주은행', 'callCenter': '1600-4000'}, {'bssYmdStart': '20230109', 'interest4_1': '0', 'interest3_2': '0', 'interest4_2': '0', 'interest2_1': '0', 'interest1_2': '0', 'interest3_1': '0', 'interest2_2': '0', 'interest1_1': '0', 'bssYmdEnd': '20230115', 'organId': '대구은행', 'callCenter': '1588-5050'}, {'bssYmdStart': '20230109', 'interest4_1': '4.97', 'interest3_2': '0', 'interest4_2': '0', 'interest2_1': '0', 'interest1_2': '0', 'interest3_1': '0', 'interest2_2': '0', 'interest1_1': '0', 'bssYmdEnd': '20230115', 'organId': '농협은행', 'callCenter': '1588-2100'}, {'bssYmdStart': '20230109', 'interest4_1': '4.40', 'interest3_2': '0', 'interest4_2': '0', 'interest2_1': '0', 'interest1_2': '0', 'interest3_1': '0', 'interest2_2': '0', 'interest1_1': '0', 'bssYmdEnd': '20230115', 'organId': '기업은행', 'callCenter': '1566-2566'}, {'bssYmdStart': '20230109', 'interest4_1': '6.23', 'interest3_2': '0', 'interest4_2': '0', 'interest2_1': '0', 'interest1_2': '0', 'interest3_1': '0', 'interest2_2': '0', 'interest1_1': '0', 'bssYmdEnd': '20230115', 'organId': '부산은행', 'callCenter': '1588-6200'}, {'bssYmdStart': '20230109', 'interest4_1': '5.02', 'interest3_2': '0', 'interest4_2': '0', 'interest2_1': '0', 'interest1_2': '0', 'interest3_1': '0', 'interest2_2': '0', 'interest1_1': '0', 'bssYmdEnd': '20230115', 'organId': '카카오뱅크', 'callCenter': '1599-3333'}]}}\n",
      "URL:  http://apis.data.go.kr/B551408/rent-loan-rate-info/rate-list?serviceKey=NAiIcJsR2pyzyHlYnLqu9gnPC7D1kVAhhfg6cEq6Y9p6GXiTrbFBbf5ivs%2FmMlAAFuemeNPFbwp2yyJ1G07o9A%3D%3D&numOfRows=10&pageNo=2&dataType=json\n",
      "resJson: \n",
      " {'header': {'resultCode': '00', 'resultMsg': '정상'}, 'body': {'pageNo': 2, 'totalCount': 17, 'numOfRows': 10, 'items': [{'bssYmdStart': '20230109', 'interest4_1': '4.99', 'interest3_2': '0', 'interest4_2': '0', 'interest2_1': '0', 'interest1_2': '0', 'interest3_1': '0', 'interest2_2': '0', 'interest1_1': '0', 'bssYmdEnd': '20230115', 'organId': '신한은행', 'callCenter': '1599-8000'}, {'bssYmdStart': '20230109', 'interest4_1': '5.06', 'interest3_2': '0', 'interest4_2': '0', 'interest2_1': '0', 'interest1_2': '0', 'interest3_1': '0', 'interest2_2': '0', 'interest1_1': '0', 'bssYmdEnd': '20230115', 'organId': '하나은행', 'callCenter': '1599-1111'}, {'bssYmdStart': '20230109', 'interest4_1': '5.06', 'interest3_2': '0', 'interest4_2': '0', 'interest2_1': '0', 'interest1_2': '0', 'interest3_1': '0', 'interest2_2': '0', 'interest1_1': '0', 'bssYmdEnd': '20230115', 'organId': '케이뱅크', 'callCenter': '1522-1000'}, {'bssYmdStart': '20230109', 'interest4_1': '5.73', 'interest3_2': '0', 'interest4_2': '0', 'interest2_1': '0', 'interest1_2': '0', 'interest3_1': '0', 'interest2_2': '0', 'interest1_1': '0', 'bssYmdEnd': '20230115', 'organId': '전북은행', 'callCenter': '1588-4477'}, {'bssYmdStart': '20230109', 'interest4_1': '5.70', 'interest3_2': '0', 'interest4_2': '0', 'interest2_1': '0', 'interest1_2': '0', 'interest3_1': '0', 'interest2_2': '0', 'interest1_1': '0', 'bssYmdEnd': '20230115', 'organId': '국민은행', 'callCenter': '1644-9999'}, {'bssYmdStart': '20230109', 'interest4_1': '6.17', 'interest3_2': '0', 'interest4_2': '0', 'interest2_1': '0', 'interest1_2': '0', 'interest3_1': '0', 'interest2_2': '0', 'interest1_1': '0', 'bssYmdEnd': '20230115', 'organId': '경남은행', 'callCenter': '1588-8585'}, {'bssYmdStart': '20230109', 'interest4_1': '5.99', 'interest3_2': '0', 'interest4_2': '0', 'interest2_1': '0', 'interest1_2': '0', 'interest3_1': '0', 'interest2_2': '0', 'interest1_1': '0', 'bssYmdEnd': '20230115', 'organId': '우리은행', 'callCenter': '1599-5000'}]}}\n",
      "URL:  http://apis.data.go.kr/B551408/rent-loan-rate-info/rate-list?serviceKey=NAiIcJsR2pyzyHlYnLqu9gnPC7D1kVAhhfg6cEq6Y9p6GXiTrbFBbf5ivs%2FmMlAAFuemeNPFbwp2yyJ1G07o9A%3D%3D&numOfRows=10&pageNo=3&dataType=json\n",
      "resJson: \n",
      " {'header': {'resultCode': '00', 'resultMsg': '정상'}, 'body': {'pageNo': 3, 'totalCount': 17, 'numOfRows': 10, 'items': []}}\n",
      "URL:  http://apis.data.go.kr/B551408/rent-loan-rate-info/rate-list?serviceKey=NAiIcJsR2pyzyHlYnLqu9gnPC7D1kVAhhfg6cEq6Y9p6GXiTrbFBbf5ivs%2FmMlAAFuemeNPFbwp2yyJ1G07o9A%3D%3D&numOfRows=10&pageNo=4&dataType=json\n",
      "resJson: \n",
      " {'header': {'resultCode': '00', 'resultMsg': '정상'}, 'body': {'pageNo': 4, 'totalCount': 17, 'numOfRows': 10, 'items': []}}\n",
      "URL:  http://apis.data.go.kr/B551408/rent-loan-rate-info/rate-list?serviceKey=NAiIcJsR2pyzyHlYnLqu9gnPC7D1kVAhhfg6cEq6Y9p6GXiTrbFBbf5ivs%2FmMlAAFuemeNPFbwp2yyJ1G07o9A%3D%3D&numOfRows=10&pageNo=5&dataType=json\n",
      "resJson: \n",
      " {'header': {'resultCode': '00', 'resultMsg': '정상'}, 'body': {'pageNo': 5, 'totalCount': 17, 'numOfRows': 10, 'items': []}}\n",
      "URL:  http://apis.data.go.kr/B551408/rent-loan-rate-info/rate-list?serviceKey=NAiIcJsR2pyzyHlYnLqu9gnPC7D1kVAhhfg6cEq6Y9p6GXiTrbFBbf5ivs%2FmMlAAFuemeNPFbwp2yyJ1G07o9A%3D%3D&numOfRows=10&pageNo=6&dataType=json\n",
      "resJson: \n",
      " {'header': {'resultCode': '00', 'resultMsg': '정상'}, 'body': {'pageNo': 6, 'totalCount': 17, 'numOfRows': 10, 'items': []}}\n",
      "URL:  http://apis.data.go.kr/B551408/rent-loan-rate-info/rate-list?serviceKey=NAiIcJsR2pyzyHlYnLqu9gnPC7D1kVAhhfg6cEq6Y9p6GXiTrbFBbf5ivs%2FmMlAAFuemeNPFbwp2yyJ1G07o9A%3D%3D&numOfRows=10&pageNo=7&dataType=json\n",
      "resJson: \n",
      " {'header': {'resultCode': '00', 'resultMsg': '정상'}, 'body': {'pageNo': 7, 'totalCount': 17, 'numOfRows': 10, 'items': []}}\n",
      "URL:  http://apis.data.go.kr/B551408/rent-loan-rate-info/rate-list?serviceKey=NAiIcJsR2pyzyHlYnLqu9gnPC7D1kVAhhfg6cEq6Y9p6GXiTrbFBbf5ivs%2FmMlAAFuemeNPFbwp2yyJ1G07o9A%3D%3D&numOfRows=10&pageNo=8&dataType=json\n",
      "resJson: \n",
      " {'header': {'resultCode': '00', 'resultMsg': '정상'}, 'body': {'pageNo': 8, 'totalCount': 17, 'numOfRows': 10, 'items': []}}\n",
      "URL:  http://apis.data.go.kr/B551408/rent-loan-rate-info/rate-list?serviceKey=NAiIcJsR2pyzyHlYnLqu9gnPC7D1kVAhhfg6cEq6Y9p6GXiTrbFBbf5ivs%2FmMlAAFuemeNPFbwp2yyJ1G07o9A%3D%3D&numOfRows=10&pageNo=9&dataType=json\n",
      "resJson: \n",
      " {'header': {'resultCode': '00', 'resultMsg': '정상'}, 'body': {'pageNo': 9, 'totalCount': 17, 'numOfRows': 10, 'items': []}}\n"
     ]
    },
    {
     "data": {
      "text/plain": "  bssYmdStart interest4_1 interest3_2 interest4_2 interest2_1 interest1_2  \\\n0    20230109           0           0           0           0           0   \n1    20230109           0           0           0           0           0   \n2    20230109           0           0           0           0           0   \n3    20230109           0           0           0           0           0   \n4    20230109        6.91           0           0           0           0   \n5    20230109           0           0           0           0           0   \n6    20230109        4.97           0           0           0           0   \n7    20230109        4.40           0           0           0           0   \n8    20230109        6.23           0           0           0           0   \n9    20230109        5.02           0           0           0           0   \n0    20230109        4.99           0           0           0           0   \n1    20230109        5.06           0           0           0           0   \n2    20230109        5.06           0           0           0           0   \n3    20230109        5.73           0           0           0           0   \n4    20230109        5.70           0           0           0           0   \n5    20230109        6.17           0           0           0           0   \n6    20230109        5.99           0           0           0           0   \n\n  interest3_1 interest2_2 interest1_1 bssYmdEnd organId callCenter  \n0           0           0           0  20230115    SC은행  1588-1599  \n1           0           0           0  20230115    산업은행  1588-1500  \n2           0           0           0  20230115    제주은행  1588-0079  \n3           0           0           0  20230115    수협은행  1588-1515  \n4           0           0           0  20230115    광주은행  1600-4000  \n5           0           0           0  20230115    대구은행  1588-5050  \n6           0           0           0  20230115    농협은행  1588-2100  \n7           0           0           0  20230115    기업은행  1566-2566  \n8           0           0           0  20230115    부산은행  1588-6200  \n9           0           0           0  20230115   카카오뱅크  1599-3333  \n0           0           0           0  20230115    신한은행  1599-8000  \n1           0           0           0  20230115    하나은행  1599-1111  \n2           0           0           0  20230115    케이뱅크  1522-1000  \n3           0           0           0  20230115    전북은행  1588-4477  \n4           0           0           0  20230115    국민은행  1644-9999  \n5           0           0           0  20230115    경남은행  1588-8585  \n6           0           0           0  20230115    우리은행  1599-5000  ",
      "text/html": "<div>\n<style scoped>\n    .dataframe tbody tr th:only-of-type {\n        vertical-align: middle;\n    }\n\n    .dataframe tbody tr th {\n        vertical-align: top;\n    }\n\n    .dataframe thead th {\n        text-align: right;\n    }\n</style>\n<table border=\"1\" class=\"dataframe\">\n  <thead>\n    <tr style=\"text-align: right;\">\n      <th></th>\n      <th>bssYmdStart</th>\n      <th>interest4_1</th>\n      <th>interest3_2</th>\n      <th>interest4_2</th>\n      <th>interest2_1</th>\n      <th>interest1_2</th>\n      <th>interest3_1</th>\n      <th>interest2_2</th>\n      <th>interest1_1</th>\n      <th>bssYmdEnd</th>\n      <th>organId</th>\n      <th>callCenter</th>\n    </tr>\n  </thead>\n  <tbody>\n    <tr>\n      <th>0</th>\n      <td>20230109</td>\n      <td>0</td>\n      <td>0</td>\n      <td>0</td>\n      <td>0</td>\n      <td>0</td>\n      <td>0</td>\n      <td>0</td>\n      <td>0</td>\n      <td>20230115</td>\n      <td>SC은행</td>\n      <td>1588-1599</td>\n    </tr>\n    <tr>\n      <th>1</th>\n      <td>20230109</td>\n      <td>0</td>\n      <td>0</td>\n      <td>0</td>\n      <td>0</td>\n      <td>0</td>\n      <td>0</td>\n      <td>0</td>\n      <td>0</td>\n      <td>20230115</td>\n      <td>산업은행</td>\n      <td>1588-1500</td>\n    </tr>\n    <tr>\n      <th>2</th>\n      <td>20230109</td>\n      <td>0</td>\n      <td>0</td>\n      <td>0</td>\n      <td>0</td>\n      <td>0</td>\n      <td>0</td>\n      <td>0</td>\n      <td>0</td>\n      <td>20230115</td>\n      <td>제주은행</td>\n      <td>1588-0079</td>\n    </tr>\n    <tr>\n      <th>3</th>\n      <td>20230109</td>\n      <td>0</td>\n      <td>0</td>\n      <td>0</td>\n      <td>0</td>\n      <td>0</td>\n      <td>0</td>\n      <td>0</td>\n      <td>0</td>\n      <td>20230115</td>\n      <td>수협은행</td>\n      <td>1588-1515</td>\n    </tr>\n    <tr>\n      <th>4</th>\n      <td>20230109</td>\n      <td>6.91</td>\n      <td>0</td>\n      <td>0</td>\n      <td>0</td>\n      <td>0</td>\n      <td>0</td>\n      <td>0</td>\n      <td>0</td>\n      <td>20230115</td>\n      <td>광주은행</td>\n      <td>1600-4000</td>\n    </tr>\n    <tr>\n      <th>5</th>\n      <td>20230109</td>\n      <td>0</td>\n      <td>0</td>\n      <td>0</td>\n      <td>0</td>\n      <td>0</td>\n      <td>0</td>\n      <td>0</td>\n      <td>0</td>\n      <td>20230115</td>\n      <td>대구은행</td>\n      <td>1588-5050</td>\n    </tr>\n    <tr>\n      <th>6</th>\n      <td>20230109</td>\n      <td>4.97</td>\n      <td>0</td>\n      <td>0</td>\n      <td>0</td>\n      <td>0</td>\n      <td>0</td>\n      <td>0</td>\n      <td>0</td>\n      <td>20230115</td>\n      <td>농협은행</td>\n      <td>1588-2100</td>\n    </tr>\n    <tr>\n      <th>7</th>\n      <td>20230109</td>\n      <td>4.40</td>\n      <td>0</td>\n      <td>0</td>\n      <td>0</td>\n      <td>0</td>\n      <td>0</td>\n      <td>0</td>\n      <td>0</td>\n      <td>20230115</td>\n      <td>기업은행</td>\n      <td>1566-2566</td>\n    </tr>\n    <tr>\n      <th>8</th>\n      <td>20230109</td>\n      <td>6.23</td>\n      <td>0</td>\n      <td>0</td>\n      <td>0</td>\n      <td>0</td>\n      <td>0</td>\n      <td>0</td>\n      <td>0</td>\n      <td>20230115</td>\n      <td>부산은행</td>\n      <td>1588-6200</td>\n    </tr>\n    <tr>\n      <th>9</th>\n      <td>20230109</td>\n      <td>5.02</td>\n      <td>0</td>\n      <td>0</td>\n      <td>0</td>\n      <td>0</td>\n      <td>0</td>\n      <td>0</td>\n      <td>0</td>\n      <td>20230115</td>\n      <td>카카오뱅크</td>\n      <td>1599-3333</td>\n    </tr>\n    <tr>\n      <th>0</th>\n      <td>20230109</td>\n      <td>4.99</td>\n      <td>0</td>\n      <td>0</td>\n      <td>0</td>\n      <td>0</td>\n      <td>0</td>\n      <td>0</td>\n      <td>0</td>\n      <td>20230115</td>\n      <td>신한은행</td>\n      <td>1599-8000</td>\n    </tr>\n    <tr>\n      <th>1</th>\n      <td>20230109</td>\n      <td>5.06</td>\n      <td>0</td>\n      <td>0</td>\n      <td>0</td>\n      <td>0</td>\n      <td>0</td>\n      <td>0</td>\n      <td>0</td>\n      <td>20230115</td>\n      <td>하나은행</td>\n      <td>1599-1111</td>\n    </tr>\n    <tr>\n      <th>2</th>\n      <td>20230109</td>\n      <td>5.06</td>\n      <td>0</td>\n      <td>0</td>\n      <td>0</td>\n      <td>0</td>\n      <td>0</td>\n      <td>0</td>\n      <td>0</td>\n      <td>20230115</td>\n      <td>케이뱅크</td>\n      <td>1522-1000</td>\n    </tr>\n    <tr>\n      <th>3</th>\n      <td>20230109</td>\n      <td>5.73</td>\n      <td>0</td>\n      <td>0</td>\n      <td>0</td>\n      <td>0</td>\n      <td>0</td>\n      <td>0</td>\n      <td>0</td>\n      <td>20230115</td>\n      <td>전북은행</td>\n      <td>1588-4477</td>\n    </tr>\n    <tr>\n      <th>4</th>\n      <td>20230109</td>\n      <td>5.70</td>\n      <td>0</td>\n      <td>0</td>\n      <td>0</td>\n      <td>0</td>\n      <td>0</td>\n      <td>0</td>\n      <td>0</td>\n      <td>20230115</td>\n      <td>국민은행</td>\n      <td>1644-9999</td>\n    </tr>\n    <tr>\n      <th>5</th>\n      <td>20230109</td>\n      <td>6.17</td>\n      <td>0</td>\n      <td>0</td>\n      <td>0</td>\n      <td>0</td>\n      <td>0</td>\n      <td>0</td>\n      <td>0</td>\n      <td>20230115</td>\n      <td>경남은행</td>\n      <td>1588-8585</td>\n    </tr>\n    <tr>\n      <th>6</th>\n      <td>20230109</td>\n      <td>5.99</td>\n      <td>0</td>\n      <td>0</td>\n      <td>0</td>\n      <td>0</td>\n      <td>0</td>\n      <td>0</td>\n      <td>0</td>\n      <td>20230115</td>\n      <td>우리은행</td>\n      <td>1599-5000</td>\n    </tr>\n  </tbody>\n</table>\n</div>"
     },
     "execution_count": 2,
     "metadata": {},
     "output_type": "execute_result"
    }
   ],
   "source": [
    "test.get_rent_loan_rate_page()\n"
   ],
   "metadata": {
    "collapsed": false,
    "pycharm": {
     "name": "#%%\n"
    }
   }
  }
 ],
 "metadata": {
  "kernelspec": {
   "display_name": "Python 3",
   "language": "python",
   "name": "python3"
  },
  "language_info": {
   "codemirror_mode": {
    "name": "ipython",
    "version": 2
   },
   "file_extension": ".py",
   "mimetype": "text/x-python",
   "name": "python",
   "nbconvert_exporter": "python",
   "pygments_lexer": "ipython2",
   "version": "2.7.6"
  }
 },
 "nbformat": 4,
 "nbformat_minor": 0
}